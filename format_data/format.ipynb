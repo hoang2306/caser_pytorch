{
 "cells": [
  {
   "cell_type": "code",
   "execution_count": 13,
   "metadata": {},
   "outputs": [],
   "source": [
    "# @hoangpanda / hoang2306\n",
    "from sklearn.model_selection import train_test_split\n",
    "\n",
    "def load_data(path):\n",
    "    with open(path, 'r') as f:\n",
    "        data = f.readlines()\n",
    "    data = [v.strip().split(', ') for v in data]\n",
    "    data = [[int(m) for m in v] for v in data]\n",
    "\n",
    "    res = []\n",
    "    for line in data:\n",
    "        bundle = line[0]\n",
    "        for item in line[1:]:\n",
    "            res += [[bundle, item]]\n",
    "\n",
    "    return res\n",
    "\n",
    "def write(data, source):\n",
    "    # input: data shape: N x 2 \n",
    "    # output: data shape: N x 3 (add rating = 1)\n",
    "    with open(f\"{source}\", 'w') as f:\n",
    "        for line in data:\n",
    "            bundle, item = line[0], line[1]\n",
    "            rating = 1 # fixed rating \n",
    "            f.write(f\"{bundle} {item} {rating}\\n\")\n",
    "\n",
    "\n",
    "data = load_data('bi_full.txt')\n",
    "data_train, data_test = train_test_split(data, test_size=0.2, shuffle=True)\n",
    "write(data_train, 'train.txt')\n",
    "write(data_test, 'test.txt')"
   ]
  }
 ],
 "metadata": {
  "kernelspec": {
   "display_name": "base",
   "language": "python",
   "name": "python3"
  },
  "language_info": {
   "codemirror_mode": {
    "name": "ipython",
    "version": 3
   },
   "file_extension": ".py",
   "mimetype": "text/x-python",
   "name": "python",
   "nbconvert_exporter": "python",
   "pygments_lexer": "ipython3",
   "version": "3.10.9"
  }
 },
 "nbformat": 4,
 "nbformat_minor": 2
}
